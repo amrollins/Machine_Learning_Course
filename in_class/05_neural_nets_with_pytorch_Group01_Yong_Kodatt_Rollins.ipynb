{
  "cells": [
    {
      "cell_type": "markdown",
      "metadata": {
        "id": "view-in-github",
        "colab_type": "text"
      },
      "source": [
        "<a href=\"https://colab.research.google.com/github/amrollins/Machine_Learning_Course/blob/main/in_class/05_neural_nets_with_pytorch_Group01_Yong_Kodatt_Rollins.ipynb\" target=\"_parent\"><img src=\"https://colab.research.google.com/assets/colab-badge.svg\" alt=\"Open In Colab\"/></a>"
      ]
    },
    {
      "cell_type": "markdown",
      "metadata": {
        "id": "lUOwclhJHNDP"
      },
      "source": [
        "# Hands On #5"
      ]
    },
    {
      "cell_type": "markdown",
      "metadata": {
        "id": "piBSRAqc96nN"
      },
      "source": [
        "**Chapter 10 – Introduction to Artificial Neural Networks with Pytorch**"
      ]
    },
    {
      "cell_type": "markdown",
      "metadata": {
        "id": "KFOtkrf3HNDS"
      },
      "source": [
        "File name convention: For group 42 and members Richard Stallman and Linus <br> Torvalds it would be: <br>\n",
        "\"05_neural_nets_with_pytorch_Stallman_Torvalds.pdf\"\n",
        "\n",
        "Submission via blackboard (UA).\n",
        "\n",
        "Feel free to answer free text questions in text cells using markdown and <br>\n",
        "possibly $\\LaTeX{}$ if you want to.\n",
        "\n",
        "**You don't have to understand every line of code here and it is not intended <br>\n",
        "for you to try to understand every line of code.<br>\n",
        "Big blocks of code are usually meant to just be clicked through.**"
      ]
    },
    {
      "cell_type": "markdown",
      "metadata": {
        "id": "C3TTeAuN96nU"
      },
      "source": [
        "# Setup"
      ]
    },
    {
      "cell_type": "code",
      "execution_count": null,
      "metadata": {
        "id": "y3_Ulmke96nV"
      },
      "outputs": [],
      "source": [
        "import sys\n",
        "assert sys.version_info >= (3, 5)\n",
        "\n",
        "import sklearn\n",
        "assert sklearn.__version__ >= \"0.20\"\n",
        "\n",
        "import torch\n",
        "assert torch.__version__ >= \"2.0\"\n",
        "\n",
        "import numpy as np\n",
        "import os\n",
        "\n",
        "np.random.seed(42)\n",
        "\n",
        "%matplotlib inline\n",
        "import matplotlib as mpl\n",
        "import matplotlib.pyplot as plt\n",
        "mpl.rc('axes', labelsize=14)\n",
        "mpl.rc('xtick', labelsize=12)\n",
        "mpl.rc('ytick', labelsize=12)"
      ]
    },
    {
      "cell_type": "markdown",
      "metadata": {
        "id": "AKK8dS-C96nW"
      },
      "source": [
        "# Perceptrons\n",
        "\n",
        "**Perceptrons are a form of linear classifier**. The characteristic expression is <br>\n",
        "$\\Sigma_i w_i \\cdot x_i + b$. Where x are your inputs and w are your model\n",
        "weights<br>\n",
        "and b is a learnable bias term. The classification part comes in by setting <br>\n",
        "**any positive result of the above expression as the 1 or True label** and any <br> **negative result as the 0 or False label**. We then use stochastic gradient <br>\n",
        "descent to optimize the weights and bias."
      ]
    },
    {
      "cell_type": "code",
      "execution_count": null,
      "metadata": {
        "id": "bc419YFJ96nX"
      },
      "outputs": [],
      "source": [
        "import numpy as np\n",
        "from sklearn.datasets import load_iris\n",
        "from sklearn.linear_model import Perceptron\n",
        "\n",
        "iris = load_iris()\n",
        "X = iris.data[:, (2, 3)]  # petal length, petal width\n",
        "y = (iris.target == 0).astype(int)"
      ]
    },
    {
      "cell_type": "markdown",
      "metadata": {
        "id": "Tut21LOA-I2r"
      },
      "source": [
        "### Task 1:\n",
        "Fit the iris dataset into a Perceptron layer and predict the class of a sample <br>\n",
        "with petal length of 2 and a petal width of 0.5.\n",
        "\n",
        "Use:\n",
        "`max_iter=1000`, `tol =1e-3` and `random_state= 42`.\n",
        "\n",
        "\n",
        "\n"
      ]
    },
    {
      "cell_type": "markdown",
      "metadata": {
        "id": "T2GbE_Wj96nW"
      },
      "source": [
        "**Note**: we set `max_iter` and `tol` explicitly to avoid warnings about the <br>\n",
        "fact that their default value will change in future versions of Scikit-Learn."
      ]
    },
    {
      "cell_type": "markdown",
      "metadata": {
        "id": "nsnymzLuLvm2"
      },
      "source": [
        "↓↓↓↓↓↓↓↓↓↓↓↓↓↓↓↓↓↓↓↓↓↓↓↓↓↓↓↓↓↓↓ your code goes below"
      ]
    },
    {
      "cell_type": "code",
      "execution_count": null,
      "metadata": {
        "id": "-5wg3vIj3gxL"
      },
      "outputs": [],
      "source": [
        "per_clf = Perceptron(max_iter = 1000, tol = 1e-3, random_state = 42).fit(X,y)"
      ]
    },
    {
      "cell_type": "code",
      "execution_count": null,
      "metadata": {
        "id": "RU8nJGQo96nY",
        "colab": {
          "base_uri": "https://localhost:8080/"
        },
        "outputId": "db5634cb-90c4-4a92-a740-491bc9884061"
      },
      "outputs": [
        {
          "output_type": "execute_result",
          "data": {
            "text/plain": [
              "array([1])"
            ]
          },
          "metadata": {},
          "execution_count": 4
        }
      ],
      "source": [
        "X_point = [[2,0.5]]\n",
        "y_pred = per_clf.predict(X_point)\n",
        "y_pred"
      ]
    },
    {
      "cell_type": "markdown",
      "source": [
        "This means that the prediction is that the flower is an Iris-Setosa."
      ],
      "metadata": {
        "id": "k2XEmi8DVgrS"
      }
    },
    {
      "cell_type": "markdown",
      "metadata": {
        "id": "L33GBuxILvm4"
      },
      "source": [
        "↑↑↑↑↑↑↑↑↑↑↑↑↑↑↑↑↑↑↑↑↑↑↑↑↑↑↑↑↑↑↑ your code goes above"
      ]
    },
    {
      "cell_type": "code",
      "execution_count": null,
      "metadata": {
        "id": "KzqgH5uG96nZ",
        "colab": {
          "base_uri": "https://localhost:8080/",
          "height": 404
        },
        "outputId": "8ae119ae-f1c0-4ccc-cc5e-13aa5223d4e5"
      },
      "outputs": [
        {
          "output_type": "display_data",
          "data": {
            "text/plain": [
              "<Figure size 1000x400 with 1 Axes>"
            ],
            "image/png": "[encoded data removed]"
          },
          "metadata": {}
        }
      ],
      "source": [
        "a = -per_clf.coef_[0][0] / per_clf.coef_[0][1]\n",
        "b = -per_clf.intercept_ / per_clf.coef_[0][1]\n",
        "\n",
        "axes = [0, 5, 0, 2]\n",
        "\n",
        "x0, x1 = np.meshgrid(\n",
        "        np.linspace(axes[0], axes[1], 500).reshape(-1, 1),\n",
        "        np.linspace(axes[2], axes[3], 200).reshape(-1, 1),\n",
        "    )\n",
        "X_new = np.c_[x0.ravel(), x1.ravel()]\n",
        "y_predict = per_clf.predict(X_new)\n",
        "zz = y_predict.reshape(x0.shape)\n",
        "\n",
        "plt.figure(figsize=(10, 4))\n",
        "plt.plot(X[y==0, 0], X[y==0, 1], \"bs\", label=\"Not Iris-Setosa\")\n",
        "plt.plot(X[y==1, 0], X[y==1, 1], \"yo\", label=\"Iris-Setosa\")\n",
        "\n",
        "plt.plot([axes[0], axes[1]], [a * axes[0] + b, a * axes[1] + b], \"k-\", linewidth=3)\n",
        "from matplotlib.colors import ListedColormap\n",
        "custom_cmap = ListedColormap(['#9898ff', '#fafab0'])\n",
        "\n",
        "plt.contourf(x0, x1, zz, cmap=custom_cmap)\n",
        "plt.xlabel(\"Petal length\", fontsize=14)\n",
        "plt.ylabel(\"Petal width\", fontsize=14)\n",
        "plt.legend(loc=\"lower right\", fontsize=14)\n",
        "plt.axis(axes)\n",
        "plt.show()"
      ]
    },
    {
      "cell_type": "markdown",
      "metadata": {
        "id": "c7AzNDaU-xOV"
      },
      "source": [
        "### Task 2\n",
        " Elaborate on the difference between a perceptron and logistic regression.\n",
        "\n",
        " **Hint:** Consider the nature of the boundary in the above plot."
      ]
    },
    {
      "cell_type": "markdown",
      "metadata": {
        "id": "AW0MVBaoHNDW"
      },
      "source": [
        "↓↓↓↓↓↓↓↓↓↓↓↓↓↓↓↓↓↓↓↓↓↓↓↓↓↓↓↓↓↓↓ your answer goes below"
      ]
    },
    {
      "cell_type": "markdown",
      "metadata": {
        "id": "k64m9OUeHNDW"
      },
      "source": [
        "Task 2 answer: Perceptron gives a linear, definite boundary while logistic regresion gives a probabilistic not necessarily linear boundary."
      ]
    },
    {
      "cell_type": "markdown",
      "metadata": {
        "id": "kdoyypmcHNDW"
      },
      "source": [
        "↑↑↑↑↑↑↑↑↑↑↑↑↑↑↑↑↑↑↑↑↑↑↑↑↑↑↑↑↑↑↑ your answer goes above"
      ]
    },
    {
      "cell_type": "markdown",
      "metadata": {
        "id": "AZr175SP96na"
      },
      "source": [
        "# Activation functions"
      ]
    },
    {
      "cell_type": "markdown",
      "metadata": {
        "id": "uBhSPTlaDZcE"
      },
      "source": [
        "### Task 3\n",
        "Describe the role of activation functions within a neural network. If you build <br>\n",
        "a neural network with no activation function, which model that we've seen in <br>\n",
        "this class would your network resemble?"
      ]
    },
    {
      "cell_type": "markdown",
      "metadata": {
        "id": "e9pD5KasHNDW"
      },
      "source": [
        "↓↓↓↓↓↓↓↓↓↓↓↓↓↓↓↓↓↓↓↓↓↓↓↓↓↓↓↓↓↓↓ your answer goes below"
      ]
    },
    {
      "cell_type": "markdown",
      "metadata": {
        "id": "zSarFW4JHNDX"
      },
      "source": [
        "Task 3 answer: The activation function transforms your data instead of just passing it along. Without an activation function, it would become a linear regression model. Specifically, the SGD algorthim."
      ]
    },
    {
      "cell_type": "markdown",
      "metadata": {
        "id": "rETgKA70HNDX"
      },
      "source": [
        "↑↑↑↑↑↑↑↑↑↑↑↑↑↑↑↑↑↑↑↑↑↑↑↑↑↑↑↑↑↑↑ your answer goes above"
      ]
    },
    {
      "cell_type": "markdown",
      "metadata": {
        "id": "4zZHVAV096nd"
      },
      "source": [
        "# Building an Image Classifier"
      ]
    },
    {
      "cell_type": "markdown",
      "metadata": {
        "id": "D6d_vhWv96nd"
      },
      "source": [
        "First let's import Pytorch. **Pytorch is a machine learning platform developed** <br>\n",
        "**by Meta**. It is now a free, open-source platform."
      ]
    },
    {
      "cell_type": "code",
      "execution_count": null,
      "metadata": {
        "id": "kSUOusSb96nd",
        "colab": {
          "base_uri": "https://localhost:8080/",
          "height": 36
        },
        "outputId": "c5815bf0-968e-4325-d6b3-d0ed800e3938"
      },
      "outputs": [
        {
          "output_type": "execute_result",
          "data": {
            "text/plain": [
              "'2.1.0+cu121'"
            ],
            "application/vnd.google.colaboratory.intrinsic+json": {
              "type": "string"
            }
          },
          "metadata": {},
          "execution_count": 6
        }
      ],
      "source": [
        "torch.__version__"
      ]
    },
    {
      "cell_type": "markdown",
      "metadata": {
        "id": "0IC001Fj96ne"
      },
      "source": [
        "Let's start by loading the [fashion MNIST](https://github.com/zalandoresearch/fashion-mnist) dataset. Keras has a number <br>\n",
        "of functions to load popular datasets in `keras.datasets`. **The dataset is** <br> **already split for you between a training set and a test set**, but it can be <br> useful to split the training set further to have a validation set."
      ]
    },
    {
      "cell_type": "markdown",
      "metadata": {
        "id": "MpvihLLAiCtJ"
      },
      "source": [
        "Keras is another machine learning toolkit that acts as the python interface <br>\n",
        "for tensorflow. We generally won't use it in this course other than for <br>\n",
        "accessing some data collections."
      ]
    },
    {
      "cell_type": "code",
      "execution_count": null,
      "metadata": {
        "id": "H2XiMCMx96nd"
      },
      "outputs": [],
      "source": [
        "import keras"
      ]
    },
    {
      "cell_type": "code",
      "execution_count": null,
      "metadata": {
        "id": "rR7u1KhvlU5E"
      },
      "outputs": [],
      "source": [
        "fashion_mnist = keras.datasets.fashion_mnist\n",
        "(X_train_full, y_train_full), (X_test, y_test) = fashion_mnist.load_data()"
      ]
    },
    {
      "cell_type": "markdown",
      "metadata": {
        "id": "Bm2mJI2v96ne"
      },
      "source": [
        "The training set contains 60,000 grayscale images, each 28x28 pixels:"
      ]
    },
    {
      "cell_type": "code",
      "execution_count": null,
      "metadata": {
        "id": "ojm1jhI7ybiU",
        "colab": {
          "base_uri": "https://localhost:8080/"
        },
        "outputId": "34ad14f7-6b0b-4448-a62b-72a0e2135842"
      },
      "outputs": [
        {
          "output_type": "execute_result",
          "data": {
            "text/plain": [
              "(60000, 28, 28)"
            ]
          },
          "metadata": {},
          "execution_count": 9
        }
      ],
      "source": [
        "X_train_full.shape"
      ]
    },
    {
      "cell_type": "markdown",
      "metadata": {
        "id": "2q7eH1GS96nf"
      },
      "source": [
        "Each pixel intensity is represented as a byte (0 to 255):"
      ]
    },
    {
      "cell_type": "code",
      "execution_count": null,
      "metadata": {
        "id": "cdlXIZMO-3Cn",
        "colab": {
          "base_uri": "https://localhost:8080/"
        },
        "outputId": "897aea4d-ff05-47af-e517-8386d0e92c57"
      },
      "outputs": [
        {
          "output_type": "execute_result",
          "data": {
            "text/plain": [
              "dtype('uint8')"
            ]
          },
          "metadata": {},
          "execution_count": 10
        }
      ],
      "source": [
        "X_train_full.dtype"
      ]
    },
    {
      "cell_type": "markdown",
      "metadata": {
        "id": "up_jreEp96ng"
      },
      "source": [
        "Let's **split the full training set into a validation set and a (smaller)** <br> **training set**. We also **scale the pixel intensities down to the 0-1 range** and <br>\n",
        "convert them to floats, by dividing by 255. This is essentially min-max scaling <br>\n",
        "or normalization for pixels with a maximum value of 255 and a minimum of 0."
      ]
    },
    {
      "cell_type": "code",
      "execution_count": null,
      "metadata": {
        "id": "AAZzoYRD96ng"
      },
      "outputs": [],
      "source": [
        "X_valid, X_train = X_train_full[:5000] / 255., X_train_full[5000:] / 255.\n",
        "y_valid, y_train = y_train_full[:5000], y_train_full[5000:]\n",
        "X_test = X_test / 255."
      ]
    },
    {
      "cell_type": "markdown",
      "metadata": {
        "id": "IG-ZXYbM96ng"
      },
      "source": [
        "You can plot an image using Matplotlib's `imshow()` function, with a `'binary'` <br>\n",
        "color map:"
      ]
    },
    {
      "cell_type": "code",
      "execution_count": null,
      "metadata": {
        "id": "h5qfRYzl96ng",
        "colab": {
          "base_uri": "https://localhost:8080/",
          "height": 406
        },
        "outputId": "e1664dcc-9ffd-4763-f099-8f29c29f6c29"
      },
      "outputs": [
        {
          "output_type": "display_data",
          "data": {
            "text/plain": [
              "<Figure size 640x480 with 1 Axes>"
            ],
            "image/png": "[encoded data removed]"
          },
          "metadata": {}
        }
      ],
      "source": [
        "plt.imshow(X_train[0], cmap=\"binary\")\n",
        "plt.axis('off')\n",
        "plt.show()"
      ]
    },
    {
      "cell_type": "markdown",
      "metadata": {
        "id": "0HIhKfBK96nh"
      },
      "source": [
        "The labels are the class IDs (represented as uint8), from 0 to 9:"
      ]
    },
    {
      "cell_type": "code",
      "execution_count": null,
      "metadata": {
        "id": "CC0hpimX96nh",
        "colab": {
          "base_uri": "https://localhost:8080/"
        },
        "outputId": "9393fdcf-1e03-4000-8750-58ada906feef"
      },
      "outputs": [
        {
          "output_type": "execute_result",
          "data": {
            "text/plain": [
              "array([4, 0, 7, ..., 3, 0, 5], dtype=uint8)"
            ]
          },
          "metadata": {},
          "execution_count": 13
        }
      ],
      "source": [
        "y_train"
      ]
    },
    {
      "cell_type": "markdown",
      "metadata": {
        "id": "XuQH9NeY96nh"
      },
      "source": [
        "Here are the corresponding class names:"
      ]
    },
    {
      "cell_type": "code",
      "execution_count": null,
      "metadata": {
        "id": "6DnDTta596nh"
      },
      "outputs": [],
      "source": [
        "class_names = [\"T-shirt/top\", \"Trouser\", \"Pullover\", \"Dress\", \"Coat\",\n",
        "               \"Sandal\", \"Shirt\", \"Sneaker\", \"Bag\", \"Ankle boot\"]"
      ]
    },
    {
      "cell_type": "markdown",
      "metadata": {
        "id": "7Z3ctcPE96ni"
      },
      "source": [
        "So the first image in the training set is a coat:"
      ]
    },
    {
      "cell_type": "code",
      "execution_count": null,
      "metadata": {
        "id": "wo3nXTyr96ni",
        "colab": {
          "base_uri": "https://localhost:8080/",
          "height": 36
        },
        "outputId": "b5fc1031-856c-44a2-8e45-b7d88c067276"
      },
      "outputs": [
        {
          "output_type": "execute_result",
          "data": {
            "text/plain": [
              "'Coat'"
            ],
            "application/vnd.google.colaboratory.intrinsic+json": {
              "type": "string"
            }
          },
          "metadata": {},
          "execution_count": 15
        }
      ],
      "source": [
        "class_names[y_train[0]]"
      ]
    },
    {
      "cell_type": "markdown",
      "metadata": {
        "id": "CSVf64Kv96ni"
      },
      "source": [
        "The validation set contains 5,000 images, and the test set contains 10,000 images:"
      ]
    },
    {
      "cell_type": "code",
      "execution_count": null,
      "metadata": {
        "id": "r3DPLv7496ni",
        "colab": {
          "base_uri": "https://localhost:8080/"
        },
        "outputId": "6f1e27bc-1a3c-45d4-84b6-7cfcfa6a8f25"
      },
      "outputs": [
        {
          "output_type": "execute_result",
          "data": {
            "text/plain": [
              "(5000, 28, 28)"
            ]
          },
          "metadata": {},
          "execution_count": 16
        }
      ],
      "source": [
        "X_valid.shape"
      ]
    },
    {
      "cell_type": "code",
      "execution_count": null,
      "metadata": {
        "id": "oBVt2-n196nj",
        "colab": {
          "base_uri": "https://localhost:8080/"
        },
        "outputId": "59f5c522-6e25-4dec-99b7-d9eb072cba15"
      },
      "outputs": [
        {
          "output_type": "execute_result",
          "data": {
            "text/plain": [
              "(10000, 28, 28)"
            ]
          },
          "metadata": {},
          "execution_count": 17
        }
      ],
      "source": [
        "X_test.shape"
      ]
    },
    {
      "cell_type": "markdown",
      "metadata": {
        "id": "cr7f-I2i96nj"
      },
      "source": [
        "Let's take a look at a sample of the images in the dataset:"
      ]
    },
    {
      "cell_type": "code",
      "execution_count": null,
      "metadata": {
        "id": "OiwEaciG96nj",
        "colab": {
          "base_uri": "https://localhost:8080/",
          "height": 428
        },
        "outputId": "faf886a4-105c-4916-916f-5f1271dc8282"
      },
      "outputs": [
        {
          "output_type": "display_data",
          "data": {
            "text/plain": [
              "<Figure size 1200x480 with 40 Axes>"
            ],
            "image/png": "[encoded data removed]"
          },
          "metadata": {}
        }
      ],
      "source": [
        "n_rows = 4\n",
        "n_cols = 10\n",
        "plt.figure(figsize=(n_cols * 1.2, n_rows * 1.2))\n",
        "for row in range(n_rows):\n",
        "    for col in range(n_cols):\n",
        "        index = n_cols * row + col\n",
        "        plt.subplot(n_rows, n_cols, index + 1)\n",
        "        plt.imshow(X_train[index], cmap=\"binary\", interpolation=\"nearest\")\n",
        "        plt.axis('off')\n",
        "        plt.title(class_names[y_train[index]], fontsize=12)\n",
        "plt.subplots_adjust(wspace=0.2, hspace=0.5)\n",
        "plt.show()"
      ]
    },
    {
      "cell_type": "markdown",
      "metadata": {
        "id": "P0XW9zPwEs9r"
      },
      "source": [
        "**Data Loaders:**\n",
        "Pytorch is built on a data type called a tensor. Numpy arrays are not <br>\n",
        "themselves tensors. So we'll use a *dataloader* to **convert our numpy arrays to** <br>\n",
        "**tensors** and pass those to our pytorch model."
      ]
    },
    {
      "cell_type": "code",
      "execution_count": null,
      "metadata": {
        "id": "Hea2aFOuFayd"
      },
      "outputs": [],
      "source": [
        "from torch.utils.data import Dataset, DataLoader"
      ]
    },
    {
      "cell_type": "code",
      "execution_count": null,
      "metadata": {
        "id": "FRIUnQUAEsNW"
      },
      "outputs": [],
      "source": [
        "class MnistDataset(Dataset):\n",
        "    def __init__(self, X, y):\n",
        "        self.X = torch.from_numpy(X.copy()).float()\n",
        "        self.y = torch.from_numpy(y.copy()).long()\n",
        "    def __len__(self):\n",
        "        return len(self.X)\n",
        "    def __getitem__(self, idx):\n",
        "        return self.X[idx], self.y[idx]"
      ]
    },
    {
      "cell_type": "code",
      "execution_count": null,
      "metadata": {
        "id": "Tp-feDfY-14P"
      },
      "outputs": [],
      "source": [
        "train_data = MnistDataset(X_train, y_train)\n",
        "valid_data = MnistDataset(X_valid, y_valid)\n",
        "test_data = MnistDataset(X_test, y_test)\n",
        "\n",
        "train_loader = DataLoader(train_data, batch_size=64, shuffle=True)\n",
        "test_loader = DataLoader(test_data, batch_size=64, shuffle=False)\n",
        "valid_loader = DataLoader(valid_data, batch_size=64, shuffle=False)"
      ]
    },
    {
      "cell_type": "markdown",
      "source": [
        "Here's an [introductory tutorial](https://pytorch.org/tutorials/beginner/basics/data_tutorial.html) to using Datasets and Dataloaders in Pytorch that <br> you may find helpful."
      ],
      "metadata": {
        "id": "CMpzLBpwgobd"
      }
    },
    {
      "cell_type": "markdown",
      "metadata": {
        "id": "t1G5vYM4AEYy"
      },
      "source": [
        "## Defining a neural network using Pytorch:\n",
        "\n",
        "In the cells below we  build an deep neural network model using the Pytorch <Br>\n",
        "Sequential class. The input is an image of shape 28 by 28 whose dimensions are <br> reshaped to a flat 1d array of length $28^2=784$ by the `nn.Flatten` layer. <br>\n",
        "The network consists of `Linear` layers (fully-connected multi-output <br> perceptrons) sandwiched between non-linear activations `ReLU` and `Softmax`.<br> The `Softmax` output activation function is used for multi-label classification. <br>\n",
        "The layers are wrapped in a `nn.Sequential` function that executes each <br> operation in the given order when the `model` object is called. <br>"
      ]
    },
    {
      "cell_type": "code",
      "execution_count": null,
      "metadata": {
        "id": "MFYpKULg96nk",
        "colab": {
          "base_uri": "https://localhost:8080/"
        },
        "outputId": "80759c22-f7df-4315-ff54-3326da4c58bc"
      },
      "outputs": [
        {
          "output_type": "execute_result",
          "data": {
            "text/plain": [
              "<torch._C.Generator at 0x7899338f18f0>"
            ]
          },
          "metadata": {},
          "execution_count": 22
        }
      ],
      "source": [
        "np.random.seed(42)\n",
        "torch.manual_seed(42)"
      ]
    },
    {
      "cell_type": "code",
      "execution_count": null,
      "metadata": {
        "id": "nHTrilwL96nk"
      },
      "outputs": [],
      "source": [
        "from torch import nn\n",
        "\n",
        "model = nn.Sequential(\n",
        "    nn.Flatten(),\n",
        "    nn.Linear(28*28, 300),\n",
        "    nn.ReLU(),\n",
        "    nn.Linear(300, 100),\n",
        "    nn.ReLU(),\n",
        "    nn.Linear(100, 10),\n",
        "    nn.Softmax(dim=1)\n",
        ")"
      ]
    },
    {
      "cell_type": "markdown",
      "source": [
        "**This is essentially a multi-layer perceptron model with activation functions** <br>\n",
        "to each \"neuron\". Additionally, **we no longer end the model with a decision** <br>\n",
        "**function** that outputs either a 0 or 1. Here our final layer's **weights** <br>\n",
        "**will be passed through a softmax function which will output a** <br>\n",
        "**collection of 10 values which add up to 1**. These are the probabilities of each <br>\n",
        "class being the correct class."
      ],
      "metadata": {
        "id": "05UJj6PrlMY9"
      }
    },
    {
      "cell_type": "code",
      "execution_count": null,
      "metadata": {
        "id": "S6wLCkUc96nk",
        "colab": {
          "base_uri": "https://localhost:8080/"
        },
        "outputId": "76a6facf-f5fb-4e48-f0b1-b1e35a3731aa"
      },
      "outputs": [
        {
          "output_type": "stream",
          "name": "stdout",
          "text": [
            "Sequential(\n",
            "  (0): Flatten(start_dim=1, end_dim=-1)\n",
            "  (1): Linear(in_features=784, out_features=300, bias=True)\n",
            "  (2): ReLU()\n",
            "  (3): Linear(in_features=300, out_features=100, bias=True)\n",
            "  (4): ReLU()\n",
            "  (5): Linear(in_features=100, out_features=10, bias=True)\n",
            "  (6): Softmax(dim=1)\n",
            ")\n"
          ]
        }
      ],
      "source": [
        "print(model)"
      ]
    },
    {
      "cell_type": "markdown",
      "metadata": {
        "id": "iFvLmimPHNDc"
      },
      "source": [
        "We can look at the layers directly:"
      ]
    },
    {
      "cell_type": "code",
      "execution_count": null,
      "metadata": {
        "id": "3skG5ULDHNDc"
      },
      "outputs": [],
      "source": [
        "hidden1 = model[1] # 1st hidden layer is at index 1"
      ]
    },
    {
      "cell_type": "code",
      "execution_count": null,
      "metadata": {
        "id": "eR5m6LjX96nl"
      },
      "outputs": [],
      "source": [
        "weights, biases = hidden1.weight, hidden1.bias"
      ]
    },
    {
      "cell_type": "code",
      "execution_count": null,
      "metadata": {
        "id": "ETO_Mi2f96nm",
        "colab": {
          "base_uri": "https://localhost:8080/"
        },
        "outputId": "ad6eb5c6-82b9-4fdf-d57f-43d4d4ff3f39"
      },
      "outputs": [
        {
          "output_type": "execute_result",
          "data": {
            "text/plain": [
              "Parameter containing:\n",
              "tensor([[ 0.0273,  0.0296, -0.0084,  ..., -0.0142,  0.0093,  0.0135],\n",
              "        [-0.0188, -0.0354,  0.0187,  ..., -0.0106, -0.0001,  0.0115],\n",
              "        [-0.0008,  0.0017,  0.0045,  ..., -0.0127, -0.0188,  0.0059],\n",
              "        ...,\n",
              "        [-0.0283,  0.0160, -0.0331,  ..., -0.0214, -0.0285,  0.0025],\n",
              "        [ 0.0149, -0.0222,  0.0158,  ...,  0.0002,  0.0009,  0.0010],\n",
              "        [ 0.0060, -0.0062, -0.0113,  ...,  0.0222,  0.0135, -0.0049]],\n",
              "       requires_grad=True)"
            ]
          },
          "metadata": {},
          "execution_count": 27
        }
      ],
      "source": [
        "weights"
      ]
    },
    {
      "cell_type": "code",
      "execution_count": null,
      "metadata": {
        "id": "i-AWFPWX96nm",
        "colab": {
          "base_uri": "https://localhost:8080/"
        },
        "outputId": "cabf2415-bccc-4592-8cad-6de491bebc5a"
      },
      "outputs": [
        {
          "output_type": "execute_result",
          "data": {
            "text/plain": [
              "torch.Size([300, 784])"
            ]
          },
          "metadata": {},
          "execution_count": 28
        }
      ],
      "source": [
        "weights.shape"
      ]
    },
    {
      "cell_type": "code",
      "execution_count": null,
      "metadata": {
        "id": "qb7RJWWg96nm",
        "colab": {
          "base_uri": "https://localhost:8080/"
        },
        "outputId": "4c0f9d1c-32a0-4908-8c98-ccd7d6455a56"
      },
      "outputs": [
        {
          "output_type": "execute_result",
          "data": {
            "text/plain": [
              "Parameter containing:\n",
              "tensor([ 0.0206,  0.0060,  0.0232, -0.0270, -0.0098, -0.0182, -0.0304, -0.0039,\n",
              "         0.0041,  0.0309, -0.0117,  0.0326,  0.0127, -0.0348, -0.0126, -0.0341,\n",
              "        -0.0169, -0.0226, -0.0347,  0.0201,  0.0293, -0.0016, -0.0167,  0.0077,\n",
              "         0.0332, -0.0142, -0.0279, -0.0221,  0.0331, -0.0055, -0.0130,  0.0019,\n",
              "        -0.0034, -0.0280,  0.0010,  0.0137,  0.0272,  0.0116, -0.0218,  0.0247,\n",
              "         0.0040, -0.0131, -0.0045, -0.0003, -0.0321, -0.0075,  0.0031, -0.0330,\n",
              "         0.0140, -0.0321, -0.0045, -0.0035,  0.0332,  0.0188, -0.0277, -0.0120,\n",
              "        -0.0268, -0.0152, -0.0327, -0.0103,  0.0282,  0.0170,  0.0344, -0.0027,\n",
              "        -0.0096, -0.0202, -0.0189, -0.0084, -0.0194, -0.0327, -0.0287, -0.0225,\n",
              "        -0.0017, -0.0080, -0.0102, -0.0216,  0.0171,  0.0219, -0.0348,  0.0229,\n",
              "        -0.0177,  0.0216, -0.0281,  0.0350,  0.0019, -0.0181, -0.0004, -0.0327,\n",
              "         0.0191,  0.0283, -0.0205, -0.0212,  0.0040,  0.0131, -0.0218,  0.0054,\n",
              "         0.0006,  0.0229,  0.0301, -0.0169,  0.0102,  0.0157, -0.0213,  0.0213,\n",
              "        -0.0085,  0.0229,  0.0178,  0.0188,  0.0182, -0.0264, -0.0269,  0.0040,\n",
              "        -0.0072,  0.0134, -0.0148, -0.0343,  0.0021, -0.0109,  0.0104,  0.0252,\n",
              "         0.0197, -0.0216, -0.0314, -0.0205, -0.0249, -0.0145, -0.0177, -0.0287,\n",
              "        -0.0255,  0.0345, -0.0086, -0.0318,  0.0079, -0.0163,  0.0244, -0.0346,\n",
              "         0.0136, -0.0108, -0.0209,  0.0069,  0.0082, -0.0290, -0.0010,  0.0033,\n",
              "         0.0268, -0.0198,  0.0222,  0.0044, -0.0089, -0.0072,  0.0161,  0.0176,\n",
              "         0.0052,  0.0185,  0.0143,  0.0303, -0.0152, -0.0214, -0.0170,  0.0035,\n",
              "         0.0126,  0.0108,  0.0145,  0.0027,  0.0223, -0.0070,  0.0163,  0.0120,\n",
              "        -0.0244, -0.0142,  0.0148, -0.0338,  0.0328,  0.0084, -0.0183, -0.0049,\n",
              "         0.0203,  0.0166,  0.0236, -0.0264, -0.0247,  0.0014,  0.0115, -0.0032,\n",
              "        -0.0337, -0.0156, -0.0340, -0.0174, -0.0018,  0.0325, -0.0249, -0.0346,\n",
              "        -0.0167,  0.0035,  0.0243,  0.0037, -0.0216,  0.0006, -0.0157,  0.0345,\n",
              "         0.0039, -0.0312,  0.0323, -0.0182, -0.0256, -0.0253,  0.0293, -0.0324,\n",
              "         0.0216, -0.0241, -0.0197,  0.0255, -0.0262, -0.0302, -0.0184,  0.0301,\n",
              "        -0.0024,  0.0309,  0.0228, -0.0151, -0.0154, -0.0127,  0.0166,  0.0179,\n",
              "         0.0032, -0.0045, -0.0057, -0.0158, -0.0121, -0.0134, -0.0023,  0.0037,\n",
              "         0.0185,  0.0124,  0.0041, -0.0323, -0.0156, -0.0015,  0.0220,  0.0246,\n",
              "         0.0106, -0.0315, -0.0049, -0.0019, -0.0284,  0.0174, -0.0328,  0.0021,\n",
              "        -0.0252,  0.0307, -0.0017,  0.0279,  0.0300,  0.0309, -0.0162,  0.0122,\n",
              "         0.0180, -0.0009, -0.0233, -0.0241,  0.0114, -0.0210,  0.0139, -0.0034,\n",
              "         0.0135,  0.0196,  0.0108,  0.0251, -0.0069, -0.0152, -0.0047,  0.0335,\n",
              "         0.0318, -0.0221, -0.0136, -0.0106,  0.0055, -0.0294,  0.0353,  0.0098,\n",
              "         0.0196, -0.0197,  0.0241, -0.0116, -0.0244, -0.0294,  0.0096, -0.0086,\n",
              "        -0.0121, -0.0340,  0.0203,  0.0332, -0.0226, -0.0016,  0.0235, -0.0143,\n",
              "        -0.0162, -0.0013, -0.0140, -0.0216], requires_grad=True)"
            ]
          },
          "metadata": {},
          "execution_count": 29
        }
      ],
      "source": [
        "biases"
      ]
    },
    {
      "cell_type": "code",
      "execution_count": null,
      "metadata": {
        "id": "SRfITXCA96nm",
        "colab": {
          "base_uri": "https://localhost:8080/"
        },
        "outputId": "42162ea8-66d5-43cd-8a22-fb4351d6806b"
      },
      "outputs": [
        {
          "output_type": "execute_result",
          "data": {
            "text/plain": [
              "torch.Size([300])"
            ]
          },
          "metadata": {},
          "execution_count": 30
        }
      ],
      "source": [
        "biases.shape"
      ]
    },
    {
      "cell_type": "markdown",
      "metadata": {
        "id": "pDu2dLD8BbeJ"
      },
      "source": [
        "## Training loop in Pytroch\n",
        "In pytorch we need to **create loops** that do things like **training** our model. <br>\n",
        "Below is an example training loop that we'll use in this code. Each step is <br>\n",
        "commented and it's **very important to understand this code** in order to use <br>\n",
        "pytorch and other similar machine learning libraries."
      ]
    },
    {
      "cell_type": "code",
      "execution_count": null,
      "metadata": {
        "id": "MNjZ9XsLEloH"
      },
      "outputs": [],
      "source": [
        "def train_and_validate(train_loader, val_loader, model, optimizer, criterion, num_epochs, metric=None):\n",
        "    history = {\n",
        "        'epoch': [],\n",
        "        'train_loss': [],\n",
        "        'train_metric': [],\n",
        "        'val_loss': [],\n",
        "        'val_metric': []\n",
        "    }  # Initialize a dictionary to store epoch-wise results\n",
        "\n",
        "    for epoch in range(num_epochs):\n",
        "        model.train()  # Set the model to training mode\n",
        "        epoch_loss = 0.0  # Initialize the epoch loss and metric values\n",
        "        epoch_metric = 0.0\n",
        "\n",
        "        # Training loop\n",
        "        for X, y in train_loader:\n",
        "            optimizer.zero_grad()  # Clear existing gradients\n",
        "            outputs = model(X)  # Make predictions\n",
        "            loss = criterion(outputs, y)  # Compute the loss\n",
        "            loss.backward()  # Compute gradients\n",
        "            optimizer.step()  # Update model parameters\n",
        "\n",
        "            epoch_loss += loss.item()\n",
        "            if metric is not None:\n",
        "                epoch_metric += metric(outputs, y)\n",
        "            else:\n",
        "                epoch_metric += 0\n",
        "\n",
        "        # Average training loss and metric\n",
        "        epoch_loss /= len(train_loader)\n",
        "        epoch_metric /= len(train_loader)\n",
        "\n",
        "        # Validation loop\n",
        "        model.eval()  # Set the model to evaluation mode\n",
        "        with torch.no_grad():  # Disable gradient calculation\n",
        "            val_loss = 0.0\n",
        "            val_metric = 0.0\n",
        "            for X_val, y_val in val_loader:\n",
        "                outputs_val = model(X_val)  # Make predictions\n",
        "                val_loss += criterion(outputs_val, y_val).item()  # Compute loss\n",
        "                if metric is not None:\n",
        "                    val_metric += metric(outputs_val, y_val)\n",
        "                else:\n",
        "                    val_metric += 0\n",
        "\n",
        "            val_loss /= len(val_loader)\n",
        "            val_metric /= len(val_loader)\n",
        "\n",
        "        # Append epoch results to history\n",
        "        history['epoch'].append(epoch)\n",
        "        history['train_loss'].append(epoch_loss)\n",
        "        history['train_metric'].append(epoch_metric)\n",
        "        history['val_loss'].append(val_loss)\n",
        "        history['val_metric'].append(val_metric)\n",
        "\n",
        "        print(f'Epoch [{epoch+1}/{num_epochs}], Train Loss: {epoch_loss:.4f}, '\n",
        "              f'Train Metric: {epoch_metric:.4f}, Val Loss: {val_loss:.4f}, '\n",
        "              f'Val Metric: {val_metric:.4f}')\n",
        "\n",
        "    return history, model"
      ]
    },
    {
      "cell_type": "markdown",
      "metadata": {
        "id": "YB7Fl7Bprtzs"
      },
      "source": [
        "**Model parameters:**\n",
        "Here, we choose the **\"sgd\" optimizer**. The SGD optimizer is a derivative of <br>\n",
        "the SGD algorithm but, instead of updating coefficients for a linear <br> regression as we saw in previous exercises, we compute the **gradient of our** <br>\n",
        "**loss function** (sparse categorical crossentropy) **with respect to our model** <br>\n",
        "**weights and layer biases** and use that to update our weights and biases. Note <br>\n",
        "that our gradient will now be the sum of more complicated partial <br>\n",
        "derivatives. Note that **our gradient will now be the sum of more complicated** <br>\n",
        "**partial derivatives**. $\\partial L/\\partial w_i = (\\partial L / \\partial f(w_i)) (\\partial f(w_i) / \\partial w_i)$ where <br>\n",
        "$f(w_i) = ReLU(w_ix_i + b)$. Additionally we may have a partial derivative for <br>\n",
        "our bias term $\\partial L/\\partial b$. The total gradient for stochastic gradient descent will then be <br>\n",
        "$\\nabla L_{layer} = \\Sigma_i \\partial L/\\partial w_i + \\partial L/\\partial b$."
      ]
    },
    {
      "cell_type": "code",
      "execution_count": null,
      "metadata": {
        "id": "Iha1BNF296nn"
      },
      "outputs": [],
      "source": [
        "criterion = torch.nn.CrossEntropyLoss()\n",
        "optimizer = torch.optim.SGD(model.parameters(), lr=0.01)\n",
        "\n",
        "def accuracy_metric(pred, target):\n",
        "    if pred.shape[1] > 1:\n",
        "        pred = pred.argmax(dim=1)\n",
        "        accuracy = torch.sum(pred == target).item() / len(pred)\n",
        "    else:\n",
        "        accuracy = torch.sum(pred > 0.5 == target).item() / len(pred)\n",
        "    return accuracy"
      ]
    },
    {
      "cell_type": "markdown",
      "metadata": {
        "id": "Z01D2HtY6B4r"
      },
      "source": [
        "Now let's train the model for 30 epochs.\n",
        "\n",
        "We save the most crucial parameters (`['loss', 'accuracy', 'val_loss',` <br> '`val_accuracy']`) in a dictionary named \"history\"."
      ]
    },
    {
      "cell_type": "code",
      "execution_count": null,
      "metadata": {
        "id": "niNnbD7U96no",
        "colab": {
          "base_uri": "https://localhost:8080/"
        },
        "outputId": "462f93bd-cd7c-4d6c-c1f1-6cc62ea54fbe"
      },
      "outputs": [
        {
          "output_type": "stream",
          "name": "stdout",
          "text": [
            "Epoch [1/30], Train Loss: 2.2993, Train Metric: 0.2244, Val Loss: 2.2947, Val Metric: 0.3475\n",
            "Epoch [2/30], Train Loss: 2.2869, Train Metric: 0.3563, Val Loss: 2.2752, Val Metric: 0.3530\n",
            "Epoch [3/30], Train Loss: 2.2372, Train Metric: 0.3208, Val Loss: 2.1675, Val Metric: 0.3412\n",
            "Epoch [4/30], Train Loss: 2.0716, Train Metric: 0.4775, Val Loss: 1.9794, Val Metric: 0.5487\n",
            "Epoch [5/30], Train Loss: 1.9373, Train Metric: 0.5767, Val Loss: 1.8899, Val Metric: 0.6286\n",
            "Epoch [6/30], Train Loss: 1.8712, Train Metric: 0.6273, Val Loss: 1.8493, Val Metric: 0.6325\n",
            "Epoch [7/30], Train Loss: 1.8431, Train Metric: 0.6333, Val Loss: 1.8294, Val Metric: 0.6422\n",
            "Epoch [8/30], Train Loss: 1.8257, Train Metric: 0.6539, Val Loss: 1.8139, Val Metric: 0.6746\n",
            "Epoch [9/30], Train Loss: 1.8090, Train Metric: 0.6837, Val Loss: 1.7965, Val Metric: 0.6998\n",
            "Epoch [10/30], Train Loss: 1.7925, Train Metric: 0.7006, Val Loss: 1.7818, Val Metric: 0.7091\n",
            "Epoch [11/30], Train Loss: 1.7795, Train Metric: 0.7091, Val Loss: 1.7698, Val Metric: 0.7150\n",
            "Epoch [12/30], Train Loss: 1.7697, Train Metric: 0.7142, Val Loss: 1.7625, Val Metric: 0.7174\n",
            "Epoch [13/30], Train Loss: 1.7623, Train Metric: 0.7173, Val Loss: 1.7556, Val Metric: 0.7203\n",
            "Epoch [14/30], Train Loss: 1.7569, Train Metric: 0.7199, Val Loss: 1.7527, Val Metric: 0.7213\n",
            "Epoch [15/30], Train Loss: 1.7523, Train Metric: 0.7226, Val Loss: 1.7469, Val Metric: 0.7267\n",
            "Epoch [16/30], Train Loss: 1.7488, Train Metric: 0.7247, Val Loss: 1.7433, Val Metric: 0.7275\n",
            "Epoch [17/30], Train Loss: 1.7460, Train Metric: 0.7262, Val Loss: 1.7412, Val Metric: 0.7288\n",
            "Epoch [18/30], Train Loss: 1.7435, Train Metric: 0.7281, Val Loss: 1.7388, Val Metric: 0.7308\n",
            "Epoch [19/30], Train Loss: 1.7414, Train Metric: 0.7288, Val Loss: 1.7368, Val Metric: 0.7322\n",
            "Epoch [20/30], Train Loss: 1.7395, Train Metric: 0.7303, Val Loss: 1.7354, Val Metric: 0.7332\n",
            "Epoch [21/30], Train Loss: 1.7378, Train Metric: 0.7317, Val Loss: 1.7337, Val Metric: 0.7344\n",
            "Epoch [22/30], Train Loss: 1.7365, Train Metric: 0.7322, Val Loss: 1.7325, Val Metric: 0.7344\n",
            "Epoch [23/30], Train Loss: 1.7350, Train Metric: 0.7333, Val Loss: 1.7309, Val Metric: 0.7367\n",
            "Epoch [24/30], Train Loss: 1.7335, Train Metric: 0.7348, Val Loss: 1.7299, Val Metric: 0.7362\n",
            "Epoch [25/30], Train Loss: 1.7327, Train Metric: 0.7350, Val Loss: 1.7290, Val Metric: 0.7379\n",
            "Epoch [26/30], Train Loss: 1.7316, Train Metric: 0.7358, Val Loss: 1.7277, Val Metric: 0.7375\n",
            "Epoch [27/30], Train Loss: 1.7307, Train Metric: 0.7367, Val Loss: 1.7270, Val Metric: 0.7395\n",
            "Epoch [28/30], Train Loss: 1.7299, Train Metric: 0.7368, Val Loss: 1.7260, Val Metric: 0.7399\n",
            "Epoch [29/30], Train Loss: 1.7290, Train Metric: 0.7379, Val Loss: 1.7255, Val Metric: 0.7395\n",
            "Epoch [30/30], Train Loss: 1.7280, Train Metric: 0.7385, Val Loss: 1.7256, Val Metric: 0.7397\n"
          ]
        }
      ],
      "source": [
        "history, model = train_and_validate(train_loader, valid_loader, model,\n",
        "                                    optimizer=optimizer, criterion=criterion,\n",
        "                                    num_epochs=30, metric=accuracy_metric)"
      ]
    },
    {
      "cell_type": "code",
      "execution_count": null,
      "metadata": {
        "id": "F73axjgFLkI_",
        "colab": {
          "base_uri": "https://localhost:8080/"
        },
        "outputId": "e980f6b8-f360-4046-d3c6-f0419d4b6154"
      },
      "outputs": [
        {
          "output_type": "stream",
          "name": "stdout",
          "text": [
            "dict_keys(['epoch', 'train_loss', 'train_metric', 'val_loss', 'val_metric'])\n"
          ]
        }
      ],
      "source": [
        "print(history.keys())"
      ]
    },
    {
      "cell_type": "code",
      "execution_count": null,
      "metadata": {
        "id": "FdaUfmYb96np",
        "colab": {
          "base_uri": "https://localhost:8080/"
        },
        "outputId": "a318b7fc-3525-4333-c150-3e0f3e4ac29f"
      },
      "outputs": [
        {
          "output_type": "stream",
          "name": "stdout",
          "text": [
            "[0, 1, 2, 3, 4, 5, 6, 7, 8, 9, 10, 11, 12, 13, 14, 15, 16, 17, 18, 19, 20, 21, 22, 23, 24, 25, 26, 27, 28, 29]\n",
            "[2.299255026772965, 2.2869284840517268, 2.2372200128644013, 2.0715981857721197, 1.9372768113779468, 1.8711816965147505, 1.8430550411690114, 1.8256678121034489, 1.80900295640147, 1.7925438666066458, 1.779526698589325, 1.769691792199778, 1.7623358999573908, 1.7568707409293152, 1.7523392612157866, 1.748844196768694, 1.745989260424015, 1.7434659591940946, 1.7413751172464946, 1.7394768798074056, 1.7377510845661164, 1.736477952918341, 1.7349662062733673, 1.7335456074670303, 1.7326628113901892, 1.7315952174885327, 1.7306757070297418, 1.7298972662105117, 1.7290010549301325, 1.7280245229255322]\n",
            "[0.22443071705426357, 0.3563408430232558, 0.3207848837209302, 0.47748304263565894, 0.5767139050387596, 0.6273013565891472, 0.6333333333333333, 0.6539244186046511, 0.6837148740310077, 0.7006177325581395, 0.7091388081395349, 0.7141593992248062, 0.717296511627907, 0.719858284883721, 0.7225654069767442, 0.7247274709302326, 0.7262294089147286, 0.7281371124031008, 0.7288396317829458, 0.7302931201550388, 0.7317163275193798, 0.7321765988372093, 0.7332788275193798, 0.7347989341085271, 0.7350351259689923, 0.7357558139534883, 0.73671875, 0.7368459302325582, 0.7379118217054264, 0.7384871608527133]\n",
            "[2.2947069602676584, 2.2751974606815772, 2.167499590523635, 1.9794300462626204, 1.8898716636850863, 1.8492559119115901, 1.829385380201702, 1.8139158457140379, 1.7965033688122714, 1.7817917669875711, 1.769795757305773, 1.76249751260009, 1.7555593206912656, 1.7527418242225163, 1.746918178811858, 1.74328711968434, 1.741240303727645, 1.7387831512885759, 1.736819474002983, 1.735394299784793, 1.7337251841267454, 1.732498976248729, 1.7308916532540624, 1.7299228453937965, 1.7289734203604203, 1.7277342337596266, 1.726968994623498, 1.726049174236346, 1.725511375861832, 1.7255770375456991]\n",
            "[0.34750791139240506, 0.3530458860759494, 0.34117879746835444, 0.5486550632911392, 0.6285601265822784, 0.6325158227848101, 0.6422072784810127, 0.6746439873417721, 0.6997626582278481, 0.7090585443037974, 0.7149920886075949, 0.7173655063291139, 0.7203322784810127, 0.7213212025316456, 0.7266613924050633, 0.7274525316455697, 0.7288370253164557, 0.7308148734177216, 0.7321993670886076, 0.7331882911392406, 0.734375, 0.734375, 0.736748417721519, 0.7361550632911392, 0.7379351265822784, 0.7375395569620253, 0.7395174050632911, 0.7399129746835443, 0.7395174050632911, 0.7397151898734177]\n"
          ]
        }
      ],
      "source": [
        "print(history['epoch'])\n",
        "print(history['train_loss'])\n",
        "print(history['train_metric'])\n",
        "print(history['val_loss'])\n",
        "print(history['val_metric'])"
      ]
    },
    {
      "cell_type": "markdown",
      "metadata": {
        "id": "ht9uxLpwhpcR"
      },
      "source": [
        "Let's visualize the learning curves for this model training."
      ]
    },
    {
      "cell_type": "code",
      "execution_count": null,
      "metadata": {
        "id": "CCv_GPMi96np",
        "colab": {
          "base_uri": "https://localhost:8080/",
          "height": 496
        },
        "outputId": "aa14b23c-7c59-401b-f821-495feb8f8535"
      },
      "outputs": [
        {
          "output_type": "display_data",
          "data": {
            "text/plain": [
              "<Figure size 800x500 with 1 Axes>"
            ],
            "image/png": "[encoded data removed]"
          },
          "metadata": {}
        }
      ],
      "source": [
        "import pandas as pd\n",
        "\n",
        "losses = pd.DataFrame({\n",
        "    'Train Loss': history['train_loss'],\n",
        "    'Validation Loss': history['val_loss']\n",
        "})\n",
        "\n",
        "# Plotting\n",
        "losses.plot(figsize=(8, 5))\n",
        "plt.grid(True)\n",
        "plt.title(\"Training and Validation Losses\")\n",
        "plt.gca().set_ylim(1.5, 2.5)  # Adjust the y-axis limits if needed\n",
        "plt.xlabel(\"Epochs\")\n",
        "plt.ylabel(\"Loss\")\n",
        "plt.show()"
      ]
    },
    {
      "cell_type": "code",
      "execution_count": null,
      "metadata": {
        "id": "24ys_9GoNaiO",
        "colab": {
          "base_uri": "https://localhost:8080/",
          "height": 496
        },
        "outputId": "0d7f0cfe-c071-4308-a1ba-5a780cee9684"
      },
      "outputs": [
        {
          "output_type": "display_data",
          "data": {
            "text/plain": [
              "<Figure size 800x500 with 1 Axes>"
            ],
            "image/png": "[encoded data removed]"
          },
          "metadata": {}
        }
      ],
      "source": [
        "accuracies = pd.DataFrame({\n",
        "    'Train Accuracy': history['train_metric'],\n",
        "    'Validation Accuracy': history['val_metric']\n",
        "})\n",
        "\n",
        "# Plotting\n",
        "accuracies.plot(figsize=(8, 5))\n",
        "plt.grid(True)\n",
        "plt.title(\"Training and Validation Accuracies\")\n",
        "plt.gca().set_ylim(0, 1)  # Adjust the y-axis limits if needed\n",
        "plt.xlabel(\"Epochs\")\n",
        "plt.ylabel(\"Accuracy\")\n",
        "plt.show()"
      ]
    },
    {
      "cell_type": "markdown",
      "metadata": {
        "id": "YfayrKJ8EVEi"
      },
      "source": [
        "## Testing loop\n",
        "We also need to create a testing loop if we want to check the performance of <br>\n",
        "our model after we train it. Notice a few key things:\n",
        "1. We put the model into evaluation mode instead of training mode\n",
        "2. We run the model without computing any gradients\n",
        "3. There is no more optimizer needed\n",
        "\n",
        "We also did this with the validation portion of `train_and_validate` loop."
      ]
    },
    {
      "cell_type": "code",
      "execution_count": null,
      "metadata": {
        "id": "KXKJG4XMEUOv"
      },
      "outputs": [],
      "source": [
        "def test_model(data_loader, criterion, metric):\n",
        "    model.eval()  # Set the model to evaluation mode\n",
        "\n",
        "    total_loss = 0.0  # Initialize the total loss and metric values\n",
        "    total_metric = 0.0\n",
        "\n",
        "    with torch.no_grad():  # Disable gradient tracking\n",
        "        for batch in data_loader:\n",
        "            X, y = batch\n",
        "\n",
        "            # Pass the data to the model and make predictions\n",
        "            outputs = model(X)\n",
        "\n",
        "            # Compute the loss\n",
        "            loss = criterion(outputs, y)\n",
        "\n",
        "            # Add the loss and metric for the batch to the total values\n",
        "            total_loss += loss.item()\n",
        "            total_metric += metric(outputs, y)\n",
        "\n",
        "    # Average loss and metric for the entire dataset\n",
        "    avg_loss = total_loss / len(data_loader)\n",
        "    avg_metric = total_metric / len(data_loader)\n",
        "\n",
        "    print(f'Test Loss: {avg_loss:.4f}, Test Metric: {avg_metric:.4f}')\n",
        "\n",
        "    return avg_loss, avg_metric"
      ]
    },
    {
      "cell_type": "markdown",
      "metadata": {
        "id": "p2WdGqAlC0bm"
      },
      "source": [
        "### Task 4\n",
        " Validate your model using `test_model` using the test dataloader `test_loader`."
      ]
    },
    {
      "cell_type": "markdown",
      "metadata": {
        "id": "dYn6hY0XHNDf"
      },
      "source": [
        "↓↓↓↓↓↓↓↓↓↓↓↓↓↓↓↓↓↓↓↓↓↓↓↓↓↓↓↓↓↓↓ your code goes below"
      ]
    },
    {
      "cell_type": "code",
      "execution_count": null,
      "metadata": {
        "id": "ZfC_sLA_96nq",
        "colab": {
          "base_uri": "https://localhost:8080/"
        },
        "outputId": "85429711-06f3-424d-fdd4-598e6b6fb209"
      },
      "outputs": [
        {
          "output_type": "stream",
          "name": "stdout",
          "text": [
            "Test Loss: 1.7316, Test Metric: 0.7344\n"
          ]
        },
        {
          "output_type": "execute_result",
          "data": {
            "text/plain": [
              "(1.731604172925281, 0.734375)"
            ]
          },
          "metadata": {},
          "execution_count": 39
        }
      ],
      "source": [
        "test_model(test_loader, metric=accuracy_metric, criterion=criterion)\n"
      ]
    },
    {
      "cell_type": "markdown",
      "metadata": {
        "id": "VPp1YYCOHNDg"
      },
      "source": [
        "↑↑↑↑↑↑↑↑↑↑↑↑↑↑↑↑↑↑↑↑↑↑↑↑↑↑↑↑↑↑↑ your code goes above"
      ]
    },
    {
      "cell_type": "markdown",
      "metadata": {
        "id": "zM8ssoN0FjYS"
      },
      "source": [
        "### Task 5\n",
        "Select the first three samples from the test dataset not the dataloader and\n",
        "<br>\n",
        "predict their corresponding classes using: <br>\n",
        "`prediction = model(torch.from_numpy(X_new).float())`. Then print the <br>\n",
        "names/ categories of the elements in  question (Eg. \"Pants\", \"trouser\")\n",
        "\n",
        "You'll need to use `prediction.detach().numpy()` to get the outputs in a nice <br>\n",
        "numpy format.\n",
        "\n",
        "Also, use `np.argmax(prediction, axis=-1)` on the one-hot-encoded predicitons <br>\n",
        "to get the classes numbers."
      ]
    },
    {
      "cell_type": "code",
      "execution_count": null,
      "metadata": {
        "id": "7C0en5Jk96nq"
      },
      "outputs": [],
      "source": [
        "X_new = X_test[:3]"
      ]
    },
    {
      "cell_type": "markdown",
      "metadata": {
        "id": "NMl_pVJMHNDg"
      },
      "source": [
        "↓↓↓↓↓↓↓↓↓↓↓↓↓↓↓↓↓↓↓↓↓↓↓↓↓↓↓↓↓↓↓ your code goes below"
      ]
    },
    {
      "cell_type": "code",
      "execution_count": null,
      "metadata": {
        "id": "-WoScu8CHNDg",
        "colab": {
          "base_uri": "https://localhost:8080/"
        },
        "outputId": "8fdce6c9-ad09-442f-f982-4bf9a46c20c6"
      },
      "outputs": [
        {
          "output_type": "execute_result",
          "data": {
            "text/plain": [
              "array([9, 2, 1])"
            ]
          },
          "metadata": {},
          "execution_count": 41
        }
      ],
      "source": [
        "prediction = model(torch.from_numpy(X_new).float())\n",
        "prediction = prediction.detach().numpy()\n",
        "np.argmax(prediction, axis = -1)\n",
        "\n",
        "\n"
      ]
    },
    {
      "cell_type": "markdown",
      "metadata": {
        "id": "arO65xXFHNDg"
      },
      "source": [
        "↑↑↑↑↑↑↑↑↑↑↑↑↑↑↑↑↑↑↑↑↑↑↑↑↑↑↑↑↑↑↑ your code goes above"
      ]
    },
    {
      "cell_type": "code",
      "execution_count": null,
      "metadata": {
        "id": "pNkCYEEIHNDg",
        "colab": {
          "base_uri": "https://localhost:8080/"
        },
        "outputId": "8f1f412f-4ffa-45cd-a359-f80842251594"
      },
      "outputs": [
        {
          "output_type": "execute_result",
          "data": {
            "text/plain": [
              "array([9, 2, 1], dtype=uint8)"
            ]
          },
          "metadata": {},
          "execution_count": 42
        }
      ],
      "source": [
        "y_test[0:3]"
      ]
    },
    {
      "cell_type": "code",
      "execution_count": null,
      "metadata": {
        "id": "MloueY3o96nr",
        "colab": {
          "base_uri": "https://localhost:8080/",
          "height": 223
        },
        "outputId": "c7b1e0f7-6102-4a23-814b-c20ab9f2f6e3"
      },
      "outputs": [
        {
          "output_type": "display_data",
          "data": {
            "text/plain": [
              "<Figure size 720x240 with 3 Axes>"
            ],
            "image/png": "[encoded data removed]"
          },
          "metadata": {}
        }
      ],
      "source": [
        "plt.figure(figsize=(7.2, 2.4))\n",
        "for index, image in enumerate(X_new):\n",
        "    plt.subplot(1, 3, index + 1)\n",
        "    plt.imshow(image, cmap=\"binary\", interpolation=\"nearest\")\n",
        "    plt.axis('off')\n",
        "    plt.title(class_names[y_test[index]], fontsize=12)\n",
        "plt.subplots_adjust(wspace=0.2, hspace=0.5)\n",
        "plt.show()"
      ]
    },
    {
      "cell_type": "markdown",
      "metadata": {
        "id": "wdQPEnaa96nr"
      },
      "source": [
        "# Regression MLP\n",
        "\n",
        "We can also build multi-layer perceptrons for regression. The difference here <br>\n",
        "is that we remove features like softmax that are specific to multi-class <br>\n",
        "classification and instead end with an appropriately sized linear layer and <br>\n",
        "use mean-squared-error as our loss function instead of cross-entropy loss."
      ]
    },
    {
      "cell_type": "markdown",
      "metadata": {
        "id": "qMxzRNLS96ns"
      },
      "source": [
        "Let's load, split and scale the [California housing dataset](https://scikit-learn.org/stable/modules/generated/sklearn.datasets.fetch_california_housing.html)."
      ]
    },
    {
      "cell_type": "code",
      "execution_count": null,
      "metadata": {
        "id": "ZJ3bFpfU96ns"
      },
      "outputs": [],
      "source": [
        "from sklearn.datasets import fetch_california_housing\n",
        "from sklearn.model_selection import train_test_split\n",
        "from sklearn.preprocessing import StandardScaler\n",
        "\n",
        "housing = fetch_california_housing()\n",
        "\n",
        "X_train_full, X_test, y_train_full, y_test = train_test_split(housing.data, housing.target, random_state=42)\n",
        "X_train, X_valid, y_train, y_valid = train_test_split(X_train_full, y_train_full, random_state=42)\n"
      ]
    },
    {
      "cell_type": "markdown",
      "metadata": {
        "id": "wJiLPiB5Gzht"
      },
      "source": [
        "### Task 6\n",
        " Scale your training, validation, and test feature matrices using scikit-learn's <br>\n",
        "[StandardScaler](https://scikit-learn.org/stable/modules/generated/sklearn.preprocessing.StandardScaler.html). Best practice is to fit your scaler to either the full dataset <br>\n",
        "or a large subset e.g. X_train and scale all samples using the same means and <br>\n",
        "standard deviations. It is critical that you **use the same mean and standard**<br>\n",
        "**deviation for all data**. This standard scaler is implementing <br> standardization also sometimes referred to as standard normalization."
      ]
    },
    {
      "cell_type": "markdown",
      "metadata": {
        "id": "AWwom68-HNDh"
      },
      "source": [
        "↓↓↓↓↓↓↓↓↓↓↓↓↓↓↓↓↓↓↓↓↓↓↓↓↓↓↓↓↓↓↓ your code goes below"
      ]
    },
    {
      "cell_type": "code",
      "execution_count": null,
      "metadata": {
        "id": "O0ehUJYh7Dcw"
      },
      "outputs": [],
      "source": [
        "from sklearn.preprocessing import StandardScaler\n",
        "scaler = StandardScaler()\n",
        "scaler.fit(X_train)\n",
        "X_train = scaler.transform(X_train)\n",
        "X_valid = scaler.transform(X_valid)\n",
        "X_test = scaler.transform(X_test)"
      ]
    },
    {
      "cell_type": "markdown",
      "metadata": {
        "id": "2Z4Q-GaqHNDh"
      },
      "source": [
        "↑↑↑↑↑↑↑↑↑↑↑↑↑↑↑↑↑↑↑↑↑↑↑↑↑↑↑↑↑↑↑ your code goes above"
      ]
    },
    {
      "cell_type": "markdown",
      "source": [
        "###Task 7\n",
        "\n",
        "Create a dataloader for the [California housing dataset](https://scikit-learn.org/stable/modules/generated/sklearn.datasets.fetch_california_housing.html).\n",
        "\n",
        "Be sure to use appropriate data types for the inputs (X) and outputs (y). You must <br>\n",
        "include the functions `__init__`, `__len__`, and `__getitem__`. Then, create <br>\n",
        "your data sets and data loaders."
      ],
      "metadata": {
        "id": "Yyn_HypzGEBb"
      }
    },
    {
      "cell_type": "code",
      "source": [
        "class CaliHousingDataset(Dataset):\n",
        "    def __init__(self, X, y):\n",
        "        self.X = torch.from_numpy(X.copy()).float()\n",
        "        self.y = torch.from_numpy(y.copy()).float()\n",
        "\n",
        "    def __len__(self):\n",
        "        return len(self.X)\n",
        "    def __getitem__(self, idx):\n",
        "        return self.X[idx], self.y[idx]"
      ],
      "metadata": {
        "id": "Guun0gb3GDJf"
      },
      "execution_count": null,
      "outputs": []
    },
    {
      "cell_type": "code",
      "source": [
        "train_data = CaliHousingDataset(X_train,y_train)\n",
        "test_data = CaliHousingDataset(X_test,y_test)\n",
        "valid_data = CaliHousingDataset(X_valid, y_valid)\n",
        "train_loader = DataLoader(train_data, batch_size=64, shuffle=True)\n",
        "test_loader = DataLoader(test_data, batch_size=64, shuffle=False)\n",
        "valid_loader = DataLoader(valid_data, batch_size=64, shuffle=False)"
      ],
      "metadata": {
        "id": "-cQZeWScL6VI"
      },
      "execution_count": null,
      "outputs": []
    },
    {
      "cell_type": "code",
      "execution_count": null,
      "metadata": {
        "id": "tv60cUzR96ns",
        "colab": {
          "base_uri": "https://localhost:8080/"
        },
        "outputId": "087cdd7d-f739-4cc8-9927-2350fd3c8abb"
      },
      "outputs": [
        {
          "output_type": "execute_result",
          "data": {
            "text/plain": [
              "<torch._C.Generator at 0x7899338f18f0>"
            ]
          },
          "metadata": {},
          "execution_count": 48
        }
      ],
      "source": [
        "np.random.seed(42)\n",
        "torch.manual_seed(42)"
      ]
    },
    {
      "cell_type": "markdown",
      "metadata": {
        "id": "1NgYV0XyIlfr"
      },
      "source": [
        "### Task 8\n",
        "This is a Neural Network with one hidden layer with 30 neurons. The output\n",
        "<br>\n",
        "layer has one neuron, which is the regression value. **Create a** <br> **train_and_validate loop for this model. Build the model, and train it.**\n",
        "\n",
        "This task is similar to task 5 except that we now do **regression, NOT** <br> **classification**. There will be some changes like no longer passing an accuracy <br>\n",
        "metric since that's not a regression metric. We'll also remove the softmax <br>\n",
        "which is used for multi-class classification. Finally, we'll need to use an <br>\n",
        "[appropriate loss function](https://pytorch.org/docs/stable/generated/torch.nn.MSELoss.html).\n",
        "\n",
        "Read through the [California housing dataset](https://scikit-learn.org/stable/modules/generated/sklearn.datasets.fetch_california_housing.html) documentation to determine the <br>\n",
        "correct number of features and classes for the model."
      ]
    },
    {
      "cell_type": "markdown",
      "metadata": {
        "id": "M37QSQ8jHNDi"
      },
      "source": [
        "↓↓↓↓↓↓↓↓↓↓↓↓↓↓↓↓↓↓↓↓↓↓↓↓↓↓↓↓↓↓↓ your code goes below"
      ]
    },
    {
      "cell_type": "code",
      "execution_count": null,
      "metadata": {
        "id": "IHxGkzxAheie"
      },
      "outputs": [],
      "source": [
        "# # Note: No flatten layer or softmax layer and last dimension should be 1\n",
        "model = nn.Sequential(\n",
        "#     Linear layer that connects input features to 30 neurons\n",
        "      nn.Linear(8,30),\n",
        "#     ReLU activation function\n",
        "      nn.ReLU(),\n",
        "#     Linear layer that connects 30 hidden dims to classes\n",
        "      nn.Linear(30,1)\n",
        ")"
      ]
    },
    {
      "cell_type": "code",
      "execution_count": null,
      "metadata": {
        "id": "wj5v_bRU96ns",
        "colab": {
          "base_uri": "https://localhost:8080/"
        },
        "outputId": "5ec7787f-16c8-4702-a9a0-9df36c1a3036"
      },
      "outputs": [
        {
          "output_type": "stream",
          "name": "stdout",
          "text": [
            "Epoch [1/30], Train Loss: 1.0638, Train Metric: 0.0000, Val Loss: 0.8608, Val Metric: 0.0000\n",
            "Epoch [2/30], Train Loss: 0.5833, Train Metric: 0.0000, Val Loss: 0.8442, Val Metric: 0.0000\n",
            "Epoch [3/30], Train Loss: 0.5038, Train Metric: 0.0000, Val Loss: 0.4477, Val Metric: 0.0000\n",
            "Epoch [4/30], Train Loss: 0.4629, Train Metric: 0.0000, Val Loss: 0.5514, Val Metric: 0.0000\n",
            "Epoch [5/30], Train Loss: 0.4405, Train Metric: 0.0000, Val Loss: 0.3963, Val Metric: 0.0000\n",
            "Epoch [6/30], Train Loss: 0.4266, Train Metric: 0.0000, Val Loss: 0.6312, Val Metric: 0.0000\n",
            "Epoch [7/30], Train Loss: 0.4181, Train Metric: 0.0000, Val Loss: 0.3779, Val Metric: 0.0000\n",
            "Epoch [8/30], Train Loss: 0.4075, Train Metric: 0.0000, Val Loss: 0.4971, Val Metric: 0.0000\n",
            "Epoch [9/30], Train Loss: 0.4039, Train Metric: 0.0000, Val Loss: 0.4886, Val Metric: 0.0000\n",
            "Epoch [10/30], Train Loss: 0.3971, Train Metric: 0.0000, Val Loss: 1.0765, Val Metric: 0.0000\n",
            "Epoch [11/30], Train Loss: 0.3990, Train Metric: 0.0000, Val Loss: 1.1760, Val Metric: 0.0000\n",
            "Epoch [12/30], Train Loss: 0.3903, Train Metric: 0.0000, Val Loss: 0.6904, Val Metric: 0.0000\n",
            "Epoch [13/30], Train Loss: 0.3892, Train Metric: 0.0000, Val Loss: 0.4459, Val Metric: 0.0000\n",
            "Epoch [14/30], Train Loss: 0.3824, Train Metric: 0.0000, Val Loss: 0.5653, Val Metric: 0.0000\n",
            "Epoch [15/30], Train Loss: 0.3824, Train Metric: 0.0000, Val Loss: 1.2613, Val Metric: 0.0000\n",
            "Epoch [16/30], Train Loss: 0.3783, Train Metric: 0.0000, Val Loss: 0.9250, Val Metric: 0.0000\n",
            "Epoch [17/30], Train Loss: 0.3835, Train Metric: 0.0000, Val Loss: 0.8196, Val Metric: 0.0000\n",
            "Epoch [18/30], Train Loss: 0.3752, Train Metric: 0.0000, Val Loss: 2.1884, Val Metric: 0.0000\n",
            "Epoch [19/30], Train Loss: 0.3984, Train Metric: 0.0000, Val Loss: 3.0579, Val Metric: 0.0000\n",
            "Epoch [20/30], Train Loss: 0.3841, Train Metric: 0.0000, Val Loss: 5.1986, Val Metric: 0.0000\n",
            "Epoch [21/30], Train Loss: 0.3980, Train Metric: 0.0000, Val Loss: 4.8963, Val Metric: 0.0000\n",
            "Epoch [22/30], Train Loss: 0.4067, Train Metric: 0.0000, Val Loss: 2.7528, Val Metric: 0.0000\n",
            "Epoch [23/30], Train Loss: 0.3870, Train Metric: 0.0000, Val Loss: 0.3527, Val Metric: 0.0000\n",
            "Epoch [24/30], Train Loss: 0.3635, Train Metric: 0.0000, Val Loss: 0.3398, Val Metric: 0.0000\n",
            "Epoch [25/30], Train Loss: 0.3614, Train Metric: 0.0000, Val Loss: 0.3636, Val Metric: 0.0000\n",
            "Epoch [26/30], Train Loss: 0.3614, Train Metric: 0.0000, Val Loss: 0.4082, Val Metric: 0.0000\n",
            "Epoch [27/30], Train Loss: 0.3595, Train Metric: 0.0000, Val Loss: 0.3565, Val Metric: 0.0000\n",
            "Epoch [28/30], Train Loss: 0.3571, Train Metric: 0.0000, Val Loss: 0.3459, Val Metric: 0.0000\n",
            "Epoch [29/30], Train Loss: 0.3555, Train Metric: 0.0000, Val Loss: 0.3490, Val Metric: 0.0000\n",
            "Epoch [30/30], Train Loss: 0.3547, Train Metric: 0.0000, Val Loss: 0.3292, Val Metric: 0.0000\n"
          ]
        }
      ],
      "source": [
        "# # Note: No metric needed and remember to change the loss function\n",
        "\n",
        "def train_and_validate(train_loader, val_loader, model, optimizer,\n",
        "                      criterion, num_epochs, metric=None):\n",
        "  history = {\n",
        "        'epoch': [],\n",
        "        'train_loss': [],\n",
        "        'train_metric': [],\n",
        "        'val_loss': [],\n",
        "        'val_metric': []\n",
        "    }  # Initialize a dictionary to store results from each epoch\n",
        "\n",
        "  for epoch in range(num_epochs):\n",
        "        model.train()  # Set the model to training mode\n",
        "        epoch_loss = 0.0  # Initialize the epoch loss and metric values\n",
        "        epoch_metric = 0.0\n",
        "\n",
        "        # Training loop\n",
        "        for X, y in train_loader:\n",
        "            optimizer.zero_grad()  # Clear existing gradients\n",
        "            outputs = model(X)  # Make predictions\n",
        "            outputs = outputs[:,0]\n",
        "            loss = criterion(outputs, y)  # Compute the loss\n",
        "            loss.backward()  # Compute gradients\n",
        "            optimizer.step()  # Update model parameters\n",
        "\n",
        "            epoch_loss += loss.item()\n",
        "            if metric is not None:\n",
        "                epoch_metric += metric(outputs, y)\n",
        "            else:\n",
        "                epoch_metric += 0\n",
        "\n",
        "        # Average training loss and metric\n",
        "        epoch_loss /= len(train_loader)\n",
        "        epoch_metric /= len(train_loader)\n",
        "\n",
        "        # Validation loop\n",
        "        model.eval()  # Set the model to evaluation mode\n",
        "        with torch.no_grad():  # Disable gradient calculation\n",
        "            val_loss = 0.0\n",
        "            val_metric = 0.0\n",
        "            for X_val, y_val in val_loader:\n",
        "                outputs_val = model(X_val)  # Make predictions\n",
        "                outputs_val = outputs_val[:,0]\n",
        "                val_loss += criterion(outputs_val, y_val).item()  # Compute loss\n",
        "                if metric is not None:\n",
        "                    val_metric += metric(outputs_val, y_val)\n",
        "                else:\n",
        "                    val_metric += 0\n",
        "\n",
        "            val_loss /= len(val_loader)\n",
        "            val_metric /= len(val_loader)\n",
        "\n",
        "        # Append epoch results to history\n",
        "        history['epoch'].append(epoch)\n",
        "        history['train_loss'].append(epoch_loss)\n",
        "        history['train_metric'].append(epoch_metric)\n",
        "        history['val_loss'].append(val_loss)\n",
        "        history['val_metric'].append(val_metric)\n",
        "\n",
        "        print(f'Epoch [{epoch+1}/{num_epochs}], Train Loss: {epoch_loss:.4f}, '\n",
        "              f'Train Metric: {epoch_metric:.4f}, Val Loss: {val_loss:.4f}, '\n",
        "              f'Val Metric: {val_metric:.4f}')\n",
        "  return history, model\n",
        "\n",
        "criterion = torch.nn.MSELoss()\n",
        "optimizer = torch.optim.SGD(model.parameters(),lr=0.01)\n",
        "# No accuracy score metric applicable\n",
        "history, model = train_and_validate(train_loader,valid_loader,model,optimizer=optimizer,criterion=criterion,num_epochs=30)"
      ]
    },
    {
      "cell_type": "markdown",
      "metadata": {
        "id": "VoSs90vjHNDj"
      },
      "source": [
        "↑↑↑↑↑↑↑↑↑↑↑↑↑↑↑↑↑↑↑↑↑↑↑↑↑↑↑↑↑↑↑ your code goes above"
      ]
    },
    {
      "cell_type": "code",
      "execution_count": null,
      "metadata": {
        "id": "5G8ujXkmHNDj",
        "colab": {
          "base_uri": "https://localhost:8080/",
          "height": 496
        },
        "outputId": "92b15b5d-c982-4cf9-b495-efb7fd6f3106"
      },
      "outputs": [
        {
          "output_type": "display_data",
          "data": {
            "text/plain": [
              "<Figure size 800x500 with 1 Axes>"
            ],
            "image/png": "[encoded data removed]"
          },
          "metadata": {}
        }
      ],
      "source": [
        "losses = pd.DataFrame({\n",
        "    'Train Loss': history['train_loss'],\n",
        "    'Validation Loss': history['val_loss']\n",
        "})\n",
        "\n",
        "# Plotting\n",
        "losses.plot(figsize=(8, 5))\n",
        "plt.grid(True)\n",
        "plt.title(\"Training and Validation Losses\")\n",
        "plt.gca().set_ylim(0, 10)  # Adjust the y-axis limits if needed\n",
        "plt.xlabel(\"Epochs\")\n",
        "plt.ylabel(\"Loss\")\n",
        "plt.show()"
      ]
    },
    {
      "cell_type": "markdown",
      "metadata": {
        "id": "bSADjQQDJLgh"
      },
      "source": [
        "### Task 9.1\n",
        "Create a `test_model` function and evalute your model's performance by using <br>\n",
        "it on the test set. Also predict one element of the test set of your choice <br>\n",
        "(`X_test[42]` for example) and compare to the real value. You can look at the <br>\n",
        "validation part of the `test_model` function from before as a reference for <br>\n",
        "how to create a test loop."
      ]
    },
    {
      "cell_type": "markdown",
      "metadata": {
        "id": "gS4iQtpdHNDj"
      },
      "source": [
        "↓↓↓↓↓↓↓↓↓↓↓↓↓↓↓↓↓↓↓↓↓↓↓↓↓↓↓↓↓↓↓ your code goes below"
      ]
    },
    {
      "cell_type": "code",
      "source": [
        "def test_model(data_loader, criterion):\n",
        "  testMSE = 0.0\n",
        "  for X,y in data_loader:\n",
        "    outputs_test=model(X)\n",
        "    outputs_test=outputs_test[:,0]\n",
        "    testMSE += criterion(outputs_test,y).item()\n",
        "  testMSE /= len(data_loader)\n",
        "  return testMSE\n",
        "\n",
        "print(test_model(test_loader,criterion))\n"
      ],
      "metadata": {
        "id": "RHDaFPIMMgqG",
        "colab": {
          "base_uri": "https://localhost:8080/"
        },
        "outputId": "53a01db9-62ea-4d67-f2c8-4afe27b97c6c"
      },
      "execution_count": null,
      "outputs": [
        {
          "output_type": "stream",
          "name": "stdout",
          "text": [
            "0.354024072488149\n"
          ]
        }
      ]
    },
    {
      "cell_type": "code",
      "execution_count": null,
      "metadata": {
        "id": "N3IL0WlYJCx6",
        "colab": {
          "base_uri": "https://localhost:8080/"
        },
        "outputId": "eae65d9e-1740-4fa0-92fe-b3cfe366ef39"
      },
      "outputs": [
        {
          "output_type": "stream",
          "name": "stdout",
          "text": [
            "tensor([1.6501], grad_fn=<ViewBackward0>) tensor(1.3380)\n"
          ]
        }
      ],
      "source": [
        "X_to_pred, test_actual = test_data[55]\n",
        "test_prediction = model(X_to_pred)\n",
        "\n",
        "print(test_prediction, test_actual)"
      ]
    },
    {
      "cell_type": "markdown",
      "metadata": {
        "id": "l7gfM8qzHNDk"
      },
      "source": [
        "↑↑↑↑↑↑↑↑↑↑↑↑↑↑↑↑↑↑↑↑↑↑↑↑↑↑↑↑↑↑↑ your code goes above"
      ]
    },
    {
      "cell_type": "markdown",
      "metadata": {
        "id": "b_YAL3g-96nx"
      },
      "source": [
        "# Saving the model weights for future use\n",
        "\n",
        "Refer to the example on saving files in the course Resources folder on github"
      ]
    },
    {
      "cell_type": "markdown",
      "source": [
        "### Task 9.2\n",
        "\n",
        "Create a new blank model using the same architecture you used from part 8. <br>\n",
        "Load the model weights from your previously trained model from part 8. <br> Finally, compare the predictions of the two models on the same datapoint."
      ],
      "metadata": {
        "id": "8Wmv0550Jwzk"
      }
    },
    {
      "cell_type": "code",
      "source": [
        "model(torch.from_numpy(X_test[42:43].copy()).float())"
      ],
      "metadata": {
        "id": "OtirZ6mCJnSO",
        "colab": {
          "base_uri": "https://localhost:8080/"
        },
        "outputId": "22e50d4e-51af-442b-f655-30fe22e84de8"
      },
      "execution_count": null,
      "outputs": [
        {
          "output_type": "execute_result",
          "data": {
            "text/plain": [
              "tensor([[0.9186]], grad_fn=<AddmmBackward0>)"
            ]
          },
          "metadata": {},
          "execution_count": 54
        }
      ]
    },
    {
      "cell_type": "code",
      "execution_count": null,
      "metadata": {
        "id": "CIMTsRwT96ny"
      },
      "outputs": [],
      "source": [
        "torch.save(model.state_dict(), \"my_pytorch_model\")"
      ]
    },
    {
      "cell_type": "code",
      "execution_count": null,
      "metadata": {
        "id": "3SWQfT1ZVVB0"
      },
      "outputs": [],
      "source": [
        "model_reloaded = nn.Sequential(\n",
        "#     Linear layer that connects input features to 30 neurons\n",
        "      nn.Linear(8,30),\n",
        "#     ReLU activation function\n",
        "      nn.ReLU(),\n",
        "#     Linear layer that connects 30 hidden dims to classes\n",
        "      nn.Linear(30,1)\n",
        ")"
      ]
    },
    {
      "cell_type": "code",
      "execution_count": null,
      "metadata": {
        "id": "BrgCYxY596ny",
        "colab": {
          "base_uri": "https://localhost:8080/"
        },
        "outputId": "e52b795e-dcae-4978-b777-421c1370f22f"
      },
      "outputs": [
        {
          "output_type": "execute_result",
          "data": {
            "text/plain": [
              "<All keys matched successfully>"
            ]
          },
          "metadata": {},
          "execution_count": 57
        }
      ],
      "source": [
        "model_reloaded.load_state_dict(torch.load(\"my_pytorch_model\"))"
      ]
    },
    {
      "cell_type": "code",
      "execution_count": null,
      "metadata": {
        "id": "XeUU8hqO96ny",
        "colab": {
          "base_uri": "https://localhost:8080/"
        },
        "outputId": "f024bb00-d71a-47d8-a4c1-2cb80b2aae77"
      },
      "outputs": [
        {
          "output_type": "execute_result",
          "data": {
            "text/plain": [
              "tensor([[0.9186]], grad_fn=<AddmmBackward0>)"
            ]
          },
          "metadata": {},
          "execution_count": 58
        }
      ],
      "source": [
        "model_reloaded(torch.from_numpy(X_test[42:43].copy()).float())"
      ]
    },
    {
      "cell_type": "markdown",
      "source": [
        "Are these the same prediction?"
      ],
      "metadata": {
        "id": "WRm8G8snKjtI"
      }
    },
    {
      "cell_type": "markdown",
      "metadata": {
        "id": "wHkqXnk5K0mu"
      },
      "source": [
        "↓↓↓↓↓↓↓↓↓↓↓↓↓↓↓↓↓↓↓↓↓↓↓↓↓↓↓↓↓↓↓ your answer goes below"
      ]
    },
    {
      "cell_type": "markdown",
      "metadata": {
        "id": "4XCPKJtfK0mv"
      },
      "source": [
        "\n",
        "\n",
        "Task 9.2 answer: Yes, they are. This shows that a model's weights after its epochs of training can be saved and cloned using the above process."
      ]
    },
    {
      "cell_type": "markdown",
      "metadata": {
        "id": "nMx5tfr8K0mv"
      },
      "source": [
        "↑↑↑↑↑↑↑↑↑↑↑↑↑↑↑↑↑↑↑↑↑↑↑↑↑↑↑↑↑↑↑ your answer goes above"
      ]
    },
    {
      "cell_type": "markdown",
      "source": [
        "# Model Layer Naming\n",
        "\n",
        "For particularly large models or new architectures, it can be helpful to name <br>\n",
        "model layers or blocks so that you can identify the source of bugs, etc."
      ],
      "metadata": {
        "id": "ptw8V26_HeXo"
      }
    },
    {
      "cell_type": "code",
      "source": [
        "from collections import OrderedDict"
      ],
      "metadata": {
        "id": "3qrpIMH2ITvA"
      },
      "execution_count": null,
      "outputs": []
    },
    {
      "cell_type": "code",
      "source": [
        "model_with_layer_naming = torch.nn.Sequential(OrderedDict([\n",
        "          ('simple_linear_layer_1', nn.Linear(10,100)),\n",
        "          ('a_neat_activation_function', nn.ReLU()),\n",
        "        ]))"
      ],
      "metadata": {
        "id": "q5Z9S79AHPpK"
      },
      "execution_count": null,
      "outputs": []
    },
    {
      "cell_type": "code",
      "source": [
        "print(model_with_layer_naming)"
      ],
      "metadata": {
        "id": "II9-ZGUEIePf",
        "colab": {
          "base_uri": "https://localhost:8080/"
        },
        "outputId": "350d3dfe-0cbe-47a1-87a8-634429485146"
      },
      "execution_count": null,
      "outputs": [
        {
          "output_type": "stream",
          "name": "stdout",
          "text": [
            "Sequential(\n",
            "  (simple_linear_layer_1): Linear(in_features=10, out_features=100, bias=True)\n",
            "  (a_neat_activation_function): ReLU()\n",
            ")\n"
          ]
        }
      ]
    },
    {
      "cell_type": "code",
      "source": [
        "print(model_with_layer_naming.simple_linear_layer_1)"
      ],
      "metadata": {
        "id": "daj_e2toIQJw",
        "colab": {
          "base_uri": "https://localhost:8080/"
        },
        "outputId": "52a5cc9c-dbf0-44d5-8e37-46ee6ca2faed"
      },
      "execution_count": null,
      "outputs": [
        {
          "output_type": "stream",
          "name": "stdout",
          "text": [
            "Linear(in_features=10, out_features=100, bias=True)\n"
          ]
        }
      ]
    },
    {
      "cell_type": "markdown",
      "metadata": {
        "id": "X2TzmQLLHNDm"
      },
      "source": [
        "### Task 10 (Bonus)\n",
        " For `X_train[0]` perform the forward pass yourself using matrix <br> multiplications.\n",
        "Remember to include the biases. <br>\n",
        "Check with the prediction of the model that you get exactly the same! <br>\n",
        "\n",
        "Hints:\n",
        "- use `np.dot(x,y)` for matrix multiplication\n",
        "- for the first layer it would look like this:\n",
        "    * matrix mult: `X_new` dot `l1`\n",
        "    * add bias `b1`\n",
        "    * apply `relu(...)`"
      ]
    },
    {
      "cell_type": "code",
      "source": [
        "print(model)"
      ],
      "metadata": {
        "id": "CLblus2vA8vd",
        "colab": {
          "base_uri": "https://localhost:8080/"
        },
        "outputId": "19e79ab0-95a6-4dab-fdf3-4f6f88108e49"
      },
      "execution_count": null,
      "outputs": [
        {
          "output_type": "stream",
          "name": "stdout",
          "text": [
            "Sequential(\n",
            "  (0): Linear(in_features=8, out_features=30, bias=True)\n",
            "  (1): ReLU()\n",
            "  (2): Linear(in_features=30, out_features=1, bias=True)\n",
            ")\n"
          ]
        }
      ]
    },
    {
      "cell_type": "code",
      "execution_count": null,
      "metadata": {
        "id": "MKw_DLg3HNDm"
      },
      "outputs": [],
      "source": [
        "l1 = np.array(model[0].weight.data.numpy()).T\n",
        "b1 = np.array(model[0].bias.data.numpy())\n",
        "l2 = np.array(model[2].weight.data.numpy()).T\n",
        "b2 = np.array(model[2].bias.data.numpy())"
      ]
    },
    {
      "cell_type": "code",
      "execution_count": null,
      "metadata": {
        "id": "8a9dRAu9HNDm"
      },
      "outputs": [],
      "source": [
        "X_new = X_train[0]"
      ]
    },
    {
      "cell_type": "code",
      "execution_count": null,
      "metadata": {
        "id": "9n8T3Jp_HNDm",
        "colab": {
          "base_uri": "https://localhost:8080/"
        },
        "outputId": "16229fc9-ec86-44a1-ecfd-e9908f6c5141"
      },
      "outputs": [
        {
          "output_type": "execute_result",
          "data": {
            "text/plain": [
              "(8,)"
            ]
          },
          "metadata": {},
          "execution_count": 66
        }
      ],
      "source": [
        "X_new.shape"
      ]
    },
    {
      "cell_type": "code",
      "execution_count": null,
      "metadata": {
        "id": "azxpa8UJHNDn",
        "colab": {
          "base_uri": "https://localhost:8080/"
        },
        "outputId": "2cac1288-b74f-43ca-849f-c46a7f71092f"
      },
      "outputs": [
        {
          "output_type": "execute_result",
          "data": {
            "text/plain": [
              "(8, 30)"
            ]
          },
          "metadata": {},
          "execution_count": 67
        }
      ],
      "source": [
        "l1.shape"
      ]
    },
    {
      "cell_type": "code",
      "execution_count": null,
      "metadata": {
        "id": "7YIy1pfnHNDn",
        "colab": {
          "base_uri": "https://localhost:8080/"
        },
        "outputId": "ee3ea1dd-180d-4792-c284-58b35a5dbe1f"
      },
      "outputs": [
        {
          "output_type": "execute_result",
          "data": {
            "text/plain": [
              "(30,)"
            ]
          },
          "metadata": {},
          "execution_count": 68
        }
      ],
      "source": [
        "b1.shape"
      ]
    },
    {
      "cell_type": "code",
      "execution_count": null,
      "metadata": {
        "id": "Va6L70U_HNDn"
      },
      "outputs": [],
      "source": [
        "# This is the entirety of the ReLU function. How cool is that!\n",
        "def relu(z):\n",
        "    return np.maximum(0, z)"
      ]
    },
    {
      "cell_type": "code",
      "execution_count": null,
      "metadata": {
        "id": "2J5yv18SHNDn",
        "colab": {
          "base_uri": "https://localhost:8080/"
        },
        "outputId": "42bca2fd-a395-440e-85ff-5d6553d420cd"
      },
      "outputs": [
        {
          "output_type": "execute_result",
          "data": {
            "text/plain": [
              "tensor([[2.8769]], grad_fn=<AddmmBackward0>)"
            ]
          },
          "metadata": {},
          "execution_count": 70
        }
      ],
      "source": [
        "model(torch.from_numpy(X_new).float().unsqueeze(0))   # reproduce this!"
      ]
    },
    {
      "cell_type": "markdown",
      "metadata": {
        "id": "1cFbtYJrHNDn"
      },
      "source": [
        "↓↓↓↓↓↓↓↓↓↓↓↓↓↓↓↓↓↓↓↓↓↓↓↓↓↓↓↓↓↓↓ your code goes below"
      ]
    },
    {
      "cell_type": "code",
      "execution_count": null,
      "metadata": {
        "id": "XRFSwoyqkCFT",
        "colab": {
          "base_uri": "https://localhost:8080/"
        },
        "outputId": "b7fbc794-0df5-4e2d-ba88-0b1c1ce3100d"
      },
      "outputs": [
        {
          "output_type": "stream",
          "name": "stdout",
          "text": [
            "[2.87685233]\n"
          ]
        }
      ],
      "source": [
        "x = np.dot(X_new,l1)+b1\n",
        "x = relu(x)\n",
        "x = np.dot(x,l2)+b2\n",
        "print(x)"
      ]
    },
    {
      "cell_type": "markdown",
      "metadata": {
        "id": "sPTqjAdiHNDn"
      },
      "source": [
        "↑↑↑↑↑↑↑↑↑↑↑↑↑↑↑↑↑↑↑↑↑↑↑↑↑↑↑↑↑↑↑ your code goes above"
      ]
    }
  ],
  "metadata": {
    "colab": {
      "provenance": [],
      "include_colab_link": true
    },
    "kernelspec": {
      "display_name": "Python 3",
      "name": "python3"
    },
    "language_info": {
      "codemirror_mode": {
        "name": "ipython",
        "version": 3
      },
      "file_extension": ".py",
      "mimetype": "text/x-python",
      "name": "python",
      "nbconvert_exporter": "python",
      "pygments_lexer": "ipython3",
      "version": "3.10.0"
    },
    "nav_menu": {
      "height": "264px",
      "width": "369px"
    },
    "toc": {
      "navigate_menu": true,
      "number_sections": true,
      "sideBar": true,
      "threshold": 6,
      "toc_cell": false,
      "toc_section_display": "block",
      "toc_window_display": false
    }
  },
  "nbformat": 4,
  "nbformat_minor": 0
}